{
 "cells": [
  {
   "cell_type": "code",
   "execution_count": 5,
   "metadata": {},
   "outputs": [],
   "source": [
    "import numpy as np\n",
    "import math\n",
    "from functions import *\n",
    "import itertools"
   ]
  },
  {
   "cell_type": "code",
   "execution_count": null,
   "metadata": {},
   "outputs": [],
   "source": [
    "# given 2 pairs of hole cards,\n",
    "# 1. list remaining cards   \n",
    "# 2. list of 48 choose 5 for board (can do sim)\n",
    "# 3. for each board, get 21 combos of 5 card hands for each pair of hole cards and find best hand\n",
    "# 4. compare hands and determine winner for each board\n",
    "# 5. tally"
   ]
  },
  {
   "cell_type": "code",
   "execution_count": 2,
   "metadata": {},
   "outputs": [],
   "source": [
    "def compare_NLH(h, b):\n",
    "    '''h is list of pairs of hole cards, b is board as list, returns x if player x wins'''\n",
    "    values = [] # hand value of each player\n",
    "    for hc in h:\n",
    "        pool = hc.append(b)\n",
    "        choices = itertools.combinations(pool,5)\n",
    "        best = []\n",
    "        "
   ]
  },
  {
   "cell_type": "code",
   "execution_count": 9,
   "metadata": {},
   "outputs": [],
   "source": [
    "def pool_value(p):\n",
    "    '''from pool of cards return strength of best 5 card hand'''\n",
    "    choices = list(itertools.combinations(p,5))\n",
    "    best = [1,0]\n",
    "    for h in choices:\n",
    "        v = value(list(h))\n",
    "        if compare(v, best):\n",
    "            best = v\n",
    "    return best"
   ]
  },
  {
   "cell_type": "code",
   "execution_count": 10,
   "metadata": {},
   "outputs": [
    {
     "ename": "TypeError",
     "evalue": "an integer is required (got type str)",
     "output_type": "error",
     "traceback": [
      "\u001b[0;31m---------------------------------------------------------------------------\u001b[0m",
      "\u001b[0;31mTypeError\u001b[0m                                 Traceback (most recent call last)",
      "Cell \u001b[0;32mIn[10], line 2\u001b[0m\n\u001b[1;32m      1\u001b[0m pool \u001b[38;5;241m=\u001b[39m [\u001b[38;5;124m'\u001b[39m\u001b[38;5;124mAC\u001b[39m\u001b[38;5;124m'\u001b[39m, \u001b[38;5;124m'\u001b[39m\u001b[38;5;124mAH\u001b[39m\u001b[38;5;124m'\u001b[39m, \u001b[38;5;124m'\u001b[39m\u001b[38;5;124mAD\u001b[39m\u001b[38;5;124m'\u001b[39m, \u001b[38;5;124m'\u001b[39m\u001b[38;5;124mAS\u001b[39m\u001b[38;5;124m'\u001b[39m, \u001b[38;5;124m'\u001b[39m\u001b[38;5;124m5D\u001b[39m\u001b[38;5;124m'\u001b[39m, \u001b[38;5;124m'\u001b[39m\u001b[38;5;124m5C\u001b[39m\u001b[38;5;124m'\u001b[39m,\u001b[38;5;124m'\u001b[39m\u001b[38;5;124m4H\u001b[39m\u001b[38;5;124m'\u001b[39m]\n\u001b[0;32m----> 2\u001b[0m \u001b[43mpool_value\u001b[49m\u001b[43m(\u001b[49m\u001b[43mpool\u001b[49m\u001b[43m)\u001b[49m\n",
      "Cell \u001b[0;32mIn[9], line 6\u001b[0m, in \u001b[0;36mpool_value\u001b[0;34m(p)\u001b[0m\n\u001b[1;32m      4\u001b[0m best \u001b[38;5;241m=\u001b[39m [\u001b[38;5;241m1\u001b[39m,\u001b[38;5;241m0\u001b[39m]\n\u001b[1;32m      5\u001b[0m \u001b[38;5;28;01mfor\u001b[39;00m h \u001b[38;5;129;01min\u001b[39;00m choices:\n\u001b[0;32m----> 6\u001b[0m     v \u001b[38;5;241m=\u001b[39m \u001b[43mvalue\u001b[49m\u001b[43m(\u001b[49m\u001b[38;5;28;43mlist\u001b[39;49m\u001b[43m(\u001b[49m\u001b[43mh\u001b[49m\u001b[43m)\u001b[49m\u001b[43m)\u001b[49m\n\u001b[1;32m      7\u001b[0m     \u001b[38;5;28;01mif\u001b[39;00m compare(v, best):\n\u001b[1;32m      8\u001b[0m         best \u001b[38;5;241m=\u001b[39m v\n",
      "File \u001b[0;32m~/Desktop/Equity-Calculator/functions.py:96\u001b[0m, in \u001b[0;36mvalue\u001b[0;34m(cards)\u001b[0m\n\u001b[1;32m     94\u001b[0m \u001b[39mdef\u001b[39;00m \u001b[39mvalue\u001b[39m(cards):\n\u001b[1;32m     95\u001b[0m \u001b[39m    \u001b[39m\u001b[39m'''Applies aux and converts hand type chars to values, HC = 1..., SF = 9'''\u001b[39;00m\n\u001b[0;32m---> 96\u001b[0m     temp \u001b[39m=\u001b[39m value_aux(cards)\n\u001b[1;32m     97\u001b[0m     temp[\u001b[39m0\u001b[39m] \u001b[39m=\u001b[39m type_conv(temp[\u001b[39m0\u001b[39m])\n\u001b[1;32m     98\u001b[0m     \u001b[39mreturn\u001b[39;00m temp\n",
      "File \u001b[0;32m~/Desktop/Equity-Calculator/functions.py:87\u001b[0m, in \u001b[0;36mvalue_aux\u001b[0;34m(cards)\u001b[0m\n\u001b[1;32m     85\u001b[0m         hc \u001b[39m=\u001b[39m values[\u001b[39m4\u001b[39m]\n\u001b[1;32m     86\u001b[0m     \u001b[39mreturn\u001b[39;00m [\u001b[39m'\u001b[39m\u001b[39mS\u001b[39m\u001b[39m'\u001b[39m, hc]\n\u001b[0;32m---> 87\u001b[0m \u001b[39mreturn\u001b[39;00m pair(values)\n",
      "File \u001b[0;32m~/Desktop/Equity-Calculator/functions.py:47\u001b[0m, in \u001b[0;36mpair\u001b[0;34m(values)\u001b[0m\n\u001b[1;32m     45\u001b[0m \u001b[39mif\u001b[39;00m \u001b[39mtype\u001b[39m \u001b[39m==\u001b[39m [\u001b[39m3\u001b[39m,\u001b[39m1\u001b[39m,\u001b[39m1\u001b[39m]:\n\u001b[1;32m     46\u001b[0m     temp \u001b[39m=\u001b[39m vals[\u001b[39m1\u001b[39m:]\n\u001b[0;32m---> 47\u001b[0m     temp\u001b[39m.\u001b[39;49msort(reverse \u001b[39m=\u001b[39;49m \u001b[39m'\u001b[39;49m\u001b[39mTrue\u001b[39;49m\u001b[39m'\u001b[39;49m)\n\u001b[1;32m     48\u001b[0m     \u001b[39mreturn\u001b[39;00m [\u001b[39m'\u001b[39m\u001b[39mT\u001b[39m\u001b[39m'\u001b[39m, vals[\u001b[39m0\u001b[39m]] \u001b[39m+\u001b[39m temp\n\u001b[1;32m     49\u001b[0m \u001b[39mif\u001b[39;00m \u001b[39mtype\u001b[39m \u001b[39m==\u001b[39m [\u001b[39m2\u001b[39m,\u001b[39m2\u001b[39m,\u001b[39m1\u001b[39m]:\n",
      "\u001b[0;31mTypeError\u001b[0m: an integer is required (got type str)"
     ]
    }
   ],
   "source": [
    "pool = ['AC', 'AH', 'AD', 'AS', '5D', '5C','4H']\n",
    "pool_value(pool)"
   ]
  },
  {
   "cell_type": "code",
   "execution_count": 49,
   "metadata": {},
   "outputs": [
    {
     "name": "stdout",
     "output_type": "stream",
     "text": [
      "[8, 14, 5]\n",
      "[8, 14, 5]\n",
      "[8, 14, 4]\n",
      "[7, 14, 5]\n"
     ]
    },
    {
     "ename": "TypeError",
     "evalue": "an integer is required (got type str)",
     "output_type": "error",
     "traceback": [
      "\u001b[0;31m---------------------------------------------------------------------------\u001b[0m",
      "\u001b[0;31mTypeError\u001b[0m                                 Traceback (most recent call last)",
      "Cell \u001b[0;32mIn[49], line 3\u001b[0m\n\u001b[1;32m      1\u001b[0m choices \u001b[38;5;241m=\u001b[39m \u001b[38;5;28mlist\u001b[39m(itertools\u001b[38;5;241m.\u001b[39mcombinations(pool,\u001b[38;5;241m5\u001b[39m))\n\u001b[1;32m      2\u001b[0m \u001b[38;5;28;01mfor\u001b[39;00m c \u001b[38;5;129;01min\u001b[39;00m choices:\n\u001b[0;32m----> 3\u001b[0m     \u001b[38;5;28mprint\u001b[39m(\u001b[43mvalue\u001b[49m\u001b[43m(\u001b[49m\u001b[38;5;28;43mlist\u001b[39;49m\u001b[43m(\u001b[49m\u001b[43mc\u001b[49m\u001b[43m)\u001b[49m\u001b[43m)\u001b[49m)\n",
      "File \u001b[0;32m~/Desktop/Equity-Calculator/functions.py:96\u001b[0m, in \u001b[0;36mvalue\u001b[0;34m(cards)\u001b[0m\n\u001b[1;32m     94\u001b[0m \u001b[39mdef\u001b[39;00m \u001b[39mvalue\u001b[39m(cards):\n\u001b[1;32m     95\u001b[0m \u001b[39m    \u001b[39m\u001b[39m'''Applies aux and converts hand type chars to values, HC = 1..., SF = 9'''\u001b[39;00m\n\u001b[0;32m---> 96\u001b[0m     temp \u001b[39m=\u001b[39m value_aux(cards)\n\u001b[1;32m     97\u001b[0m     temp[\u001b[39m0\u001b[39m] \u001b[39m=\u001b[39m type_conv(temp[\u001b[39m0\u001b[39m])\n\u001b[1;32m     98\u001b[0m     \u001b[39mreturn\u001b[39;00m temp\n",
      "File \u001b[0;32m~/Desktop/Equity-Calculator/functions.py:87\u001b[0m, in \u001b[0;36mvalue_aux\u001b[0;34m(cards)\u001b[0m\n\u001b[1;32m     85\u001b[0m         hc \u001b[39m=\u001b[39m values[\u001b[39m4\u001b[39m]\n\u001b[1;32m     86\u001b[0m     \u001b[39mreturn\u001b[39;00m [\u001b[39m'\u001b[39m\u001b[39mS\u001b[39m\u001b[39m'\u001b[39m, hc]\n\u001b[0;32m---> 87\u001b[0m \u001b[39mreturn\u001b[39;00m pair(values)\n",
      "File \u001b[0;32m~/Desktop/Equity-Calculator/functions.py:47\u001b[0m, in \u001b[0;36mpair\u001b[0;34m(values)\u001b[0m\n\u001b[1;32m     45\u001b[0m \u001b[39mif\u001b[39;00m \u001b[39mtype\u001b[39m \u001b[39m==\u001b[39m [\u001b[39m3\u001b[39m,\u001b[39m1\u001b[39m,\u001b[39m1\u001b[39m]:\n\u001b[1;32m     46\u001b[0m     temp \u001b[39m=\u001b[39m vals[\u001b[39m1\u001b[39m:]\n\u001b[0;32m---> 47\u001b[0m     temp\u001b[39m.\u001b[39;49msort(reverse \u001b[39m=\u001b[39;49m \u001b[39m'\u001b[39;49m\u001b[39mTrue\u001b[39;49m\u001b[39m'\u001b[39;49m)\n\u001b[1;32m     48\u001b[0m     \u001b[39mreturn\u001b[39;00m [\u001b[39m'\u001b[39m\u001b[39mT\u001b[39m\u001b[39m'\u001b[39m, vals[\u001b[39m0\u001b[39m]] \u001b[39m+\u001b[39m temp\n\u001b[1;32m     49\u001b[0m \u001b[39mif\u001b[39;00m \u001b[39mtype\u001b[39m \u001b[39m==\u001b[39m [\u001b[39m2\u001b[39m,\u001b[39m2\u001b[39m,\u001b[39m1\u001b[39m]:\n",
      "\u001b[0;31mTypeError\u001b[0m: an integer is required (got type str)"
     ]
    }
   ],
   "source": [
    "choices = list(itertools.combinations(pool,5))\n",
    "for c in choices:\n",
    "    print(value(list(c)))"
   ]
  },
  {
   "cell_type": "code",
   "execution_count": 31,
   "metadata": {},
   "outputs": [
    {
     "data": {
      "text/plain": [
       "[14, 14, 14, 5, 4]"
      ]
     },
     "execution_count": 31,
     "metadata": {},
     "output_type": "execute_result"
    }
   ],
   "source": [
    "# value_aux(list(c))\n",
    "values = [i[0] for i in c]\n",
    "values = [convert(v) for v in values]\n",
    "values"
   ]
  },
  {
   "cell_type": "code",
   "execution_count": 47,
   "metadata": {},
   "outputs": [],
   "source": [
    "a = pair(values)\n",
    "a.reverse()"
   ]
  },
  {
   "cell_type": "code",
   "execution_count": 48,
   "metadata": {},
   "outputs": [],
   "source": [
    "def pair(values):\n",
    "    '''fully process pair type (non S/F) hands'''\n",
    "    C = Counter(values)\n",
    "    l = C.most_common()\n",
    "    type = [i[1] for i in l]\n",
    "    vals = [i[0] for i in l]\n",
    "    if type == [4,1]:\n",
    "        return ['Q'] + vals\n",
    "    if type == [3,2]:\n",
    "        return ['B'] + vals\n",
    "    if type == [3,1,1]:\n",
    "        temp = vals[1:]\n",
    "        temp.sort(reverse = True)\n",
    "        return ['T', vals[0]] + temp\n",
    "    if type == [2,2,1]:\n",
    "        temp = vals[:-1]\n",
    "        temp.sort(reverse = True)\n",
    "        return ['TP'] + temp + [vals[2]]\n",
    "    if type == [2,1,1,1]:\n",
    "        temp = vals[1:]\n",
    "        temp.sort(reverse = True)\n",
    "        return ['P', vals[0]] + temp\n",
    "    vals.sort(reverse = True)\n",
    "    return ['HC'] + vals"
   ]
  }
 ],
 "metadata": {
  "kernelspec": {
   "display_name": "Python 3.8.2 64-bit",
   "language": "python",
   "name": "python3"
  },
  "language_info": {
   "codemirror_mode": {
    "name": "ipython",
    "version": 3
   },
   "file_extension": ".py",
   "mimetype": "text/x-python",
   "name": "python",
   "nbconvert_exporter": "python",
   "pygments_lexer": "ipython3",
   "version": "3.8.2"
  },
  "orig_nbformat": 4,
  "vscode": {
   "interpreter": {
    "hash": "31f2aee4e71d21fbe5cf8b01ff0e069b9275f58929596ceb00d14d90e3e16cd6"
   }
  }
 },
 "nbformat": 4,
 "nbformat_minor": 2
}
