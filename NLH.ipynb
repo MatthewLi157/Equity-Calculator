{
 "cells": [
  {
   "cell_type": "code",
   "execution_count": 1,
   "metadata": {},
   "outputs": [],
   "source": [
    "import numpy as np\n",
    "import math\n",
    "from functions import *"
   ]
  },
  {
   "cell_type": "code",
   "execution_count": null,
   "metadata": {},
   "outputs": [],
   "source": [
    "# given 2 pairs of hole cards,\n",
    "# 1. list remaining cards   \n",
    "# 2. list of 48 choose 5 for board (can do sim)\n",
    "# 3. for each board, get 21 combos of 5 card hands for each pair of hole cards and find best hand\n",
    "# 4. compare hands and determine winner for each board\n",
    "# 5. tally"
   ]
  },
  {
   "cell_type": "code",
   "execution_count": null,
   "metadata": {},
   "outputs": [],
   "source": [
    "def compare_NLH(h, b):\n",
    "    '''h is list of pairs of hole cards, b is board as list, returns x if player x wins'''\n",
    "    values = [] # hand value of each player\n",
    "    for hc in h:\n",
    "        pool = hc.append(b)\n",
    "        choices = itertools.combinations(pool,5)\n",
    "        best = []\n",
    "        "
   ]
  },
  {
   "cell_type": "code",
   "execution_count": null,
   "metadata": {},
   "outputs": [],
   "source": []
  }
 ],
 "metadata": {
  "kernelspec": {
   "display_name": "Python 3.8.2 64-bit",
   "language": "python",
   "name": "python3"
  },
  "language_info": {
   "codemirror_mode": {
    "name": "ipython",
    "version": 3
   },
   "file_extension": ".py",
   "mimetype": "text/x-python",
   "name": "python",
   "nbconvert_exporter": "python",
   "pygments_lexer": "ipython3",
   "version": "3.8.2"
  },
  "orig_nbformat": 4,
  "vscode": {
   "interpreter": {
    "hash": "31f2aee4e71d21fbe5cf8b01ff0e069b9275f58929596ceb00d14d90e3e16cd6"
   }
  }
 },
 "nbformat": 4,
 "nbformat_minor": 2
}
