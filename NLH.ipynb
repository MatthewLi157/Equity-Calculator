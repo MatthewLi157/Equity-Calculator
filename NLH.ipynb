{
 "cells": [
  {
   "cell_type": "code",
   "execution_count": 173,
   "metadata": {},
   "outputs": [],
   "source": [
    "import numpy as np\n",
    "import math\n",
    "from functions import *\n",
    "import itertools\n",
    "import random"
   ]
  },
  {
   "cell_type": "code",
   "execution_count": 93,
   "metadata": {},
   "outputs": [],
   "source": [
    "ranks = ['A', '2', '3', '4', '5', '6', '7', '8', '9', '10', 'J', 'Q', 'K']\n",
    "suits = ['C', 'D', 'H', 'S']"
   ]
  },
  {
   "cell_type": "code",
   "execution_count": 64,
   "metadata": {},
   "outputs": [],
   "source": [
    "def pool_value(p):\n",
    "    '''from pool of cards return strength of best 5 card hand'''\n",
    "    choices = list(itertools.combinations(p,5))\n",
    "    best = [1,0]\n",
    "    for h in choices:\n",
    "        v = value(list(h))\n",
    "        if compare(v, best):\n",
    "            best = v\n",
    "    return best"
   ]
  },
  {
   "cell_type": "code",
   "execution_count": 82,
   "metadata": {},
   "outputs": [],
   "source": [
    "##### fix treatment of ties\n",
    "def compare_NLH(h, b):\n",
    "    '''h is list of pairs of hole cards, b is board as list, returns x if player x wins'''\n",
    "    values = [] # hand value of each player\n",
    "    for hc in h:\n",
    "        pool = hc + b\n",
    "        values.append(pool_value(pool))\n",
    "    n = len(values)\n",
    "    best = 1\n",
    "    best_val = values[0]\n",
    "    for i in range(1,n):\n",
    "        if compare(values[i], best_val):\n",
    "            best = i+1\n",
    "            best_val = values[i]\n",
    "    return best"
   ]
  },
  {
   "cell_type": "code",
   "execution_count": 104,
   "metadata": {},
   "outputs": [
    {
     "data": {
      "text/plain": [
       "3"
      ]
     },
     "execution_count": 104,
     "metadata": {},
     "output_type": "execute_result"
    }
   ],
   "source": [
    "h = ['AC','KD'], ['5C','5D']\n",
    "b = ['AC','KC','QC','4D','2H']\n",
    "compare_NLH(h,b)"
   ]
  },
  {
   "cell_type": "code",
   "execution_count": 209,
   "metadata": {},
   "outputs": [],
   "source": [
    "def prefl_equity(h):\n",
    "    deck = [rank + suit for suit in suits for rank in ranks]\n",
    "    cards_dealt = []\n",
    "    for hc in h:\n",
    "        cards_dealt = cards_dealt + hc\n",
    "    for c in cards_dealt:\n",
    "        deck.remove(c)\n",
    "    boards = list(itertools.combinations(deck,5))\n",
    "    results = [0]*len(h)\n",
    "    trials = 2500\n",
    "    i = 0\n",
    "    while i < trials:\n",
    "        b = random.choice(boards)\n",
    "        winner = compare_NLH(h,list(b))\n",
    "        ### fix for multiway\n",
    "        if winner == 0:\n",
    "            results[0] += 1/2\n",
    "            results[1] += 1/2\n",
    "        else:\n",
    "            results[winner-1]+=1\n",
    "        i+=1\n",
    "    return [r/trials for r in results]\n"
   ]
  },
  {
   "cell_type": "code",
   "execution_count": 207,
   "metadata": {},
   "outputs": [
    {
     "data": {
      "text/plain": [
       "[0.0116, 0.9884]"
      ]
     },
     "execution_count": 207,
     "metadata": {},
     "output_type": "execute_result"
    }
   ],
   "source": [
    "prefl_equity([['5C','5D'],['5H','5S']])"
   ]
  },
  {
   "cell_type": "code",
   "execution_count": 203,
   "metadata": {},
   "outputs": [
    {
     "name": "stdout",
     "output_type": "stream",
     "text": [
      "('7C', 'AD', '2D', 'QD', '10S') 1\n",
      "('2C', '4D', '3H', '5S', 'JS') 1\n",
      "('10C', 'AD', 'JD', 'KH', '3S') 1\n",
      "('AD', '3D', '10D', '6H', 'KH') 1\n",
      "('4C', '8C', 'KC', 'JD', '5S') 2\n",
      "('QC', '3D', 'QD', '10H', '9S') 2\n",
      "('8C', '7D', 'AH', '8H', 'KS') 1\n",
      "('4C', '7C', 'KC', '9D', 'AH') 1\n",
      "('2C', '4D', '8D', 'QD', '8S') 2\n",
      "('JC', '8D', '7H', '8H', 'JH') 1\n"
     ]
    }
   ],
   "source": [
    "h = [['AC','KD'], ['5C','5D']]\n",
    "for i in range(10):\n",
    "    b = random.choice(boards)\n",
    "    print(b, compare_NLH(h,list(b)))"
   ]
  },
  {
   "cell_type": "code",
   "execution_count": null,
   "metadata": {},
   "outputs": [],
   "source": []
  }
 ],
 "metadata": {
  "kernelspec": {
   "display_name": "Python 3.8.2 64-bit",
   "language": "python",
   "name": "python3"
  },
  "language_info": {
   "codemirror_mode": {
    "name": "ipython",
    "version": 3
   },
   "file_extension": ".py",
   "mimetype": "text/x-python",
   "name": "python",
   "nbconvert_exporter": "python",
   "pygments_lexer": "ipython3",
   "version": "3.8.2"
  },
  "orig_nbformat": 4,
  "vscode": {
   "interpreter": {
    "hash": "31f2aee4e71d21fbe5cf8b01ff0e069b9275f58929596ceb00d14d90e3e16cd6"
   }
  }
 },
 "nbformat": 4,
 "nbformat_minor": 2
}
